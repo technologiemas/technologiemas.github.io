{
 "cells": [
  {
   "cell_type": "markdown",
   "source": [
    "# Hello!\n",
    "I'm Thomas, welcome to my dashboard.\n",
    "Here you'll find a few of the programming and data science related projects I've been working on.\n",
    "Most were born out hobby projects for teaching myself to code. All were born out of me being curious enough to explore random topics.\n",
    "\n",
    "<br>\n",
    "\n",
    "## Subjects\n",
    "\n",
    "### [Internet Movie Dataviz](/internet_movie_dataviz)\n",
    "This project was done as a capstone project for the Google Data Analytics course.\n",
    "I found a database online that uses the API of a popular movie database site.\n",
    "Using this database, I created a variety of graphs exploring the popularity of movies.\n",
    "\n",
    "### [Game of Life](/game_of_life)\n",
    "Even 0-player games can be fun.\n",
    "Watch Conway's classic unfold in a grid of living cells.\n",
    "\n",
    "### [Kia Picanto go fast](/kia_picanto_go_fast)\n",
    "During a vacation I ran a real life experiment using the petrol-use meter of our car.\n",
    "It turns out driving fast truly is inefficient.\n",
    "\n",
    "<br>\n",
    "<br>\n",
    "\n",
    "#### How I created this site:\n",
    "Using Jupyter Notebook and Rmarkdown to transcribe markdown files and Python, SQL and R scripts into HTML files.\n",
    "The links in this document are links to these HTML files.\n",
    "All of these files were then hosted via GitHub Pages.\n",
    "All used source code are referenced on the pages, leading to external GitHub repositories."
   ],
   "metadata": {
    "collapsed": false
   }
  },
  {
   "cell_type": "code",
   "execution_count": 10,
   "outputs": [],
   "source": [
    "%%capture\n",
    "!jupyter nbconvert --to html --no-input --no-prompt index.ipynb"
   ],
   "metadata": {
    "collapsed": false
   }
  },
  {
   "cell_type": "code",
   "execution_count": 11,
   "outputs": [],
   "source": [
    "# with open(\"index.html\", \"r+\") as f:\n",
    "#         custom_css = \"max-width: 800px;margin: 0 auto;text-justify: inter-word;\"\n",
    "#         content = []\n",
    "#         match = \"body\"\n",
    "#         found = False\n",
    "#\n",
    "#         for line in f:\n",
    "#                 content.append(line)\n",
    "#                 if match in line and not found:\n",
    "#                         content.append(custom_css + \"\\n\")\n",
    "#                         found = True\n",
    "#\n",
    "#         f.seek(0)\n",
    "#         f.truncate()\n",
    "#         f.write(\"\".join(content))"
   ],
   "metadata": {
    "collapsed": false
   }
  }
 ],
 "metadata": {
  "kernelspec": {
   "display_name": "Python 3",
   "language": "python",
   "name": "python3"
  },
  "language_info": {
   "codemirror_mode": {
    "name": "ipython",
    "version": 2
   },
   "file_extension": ".py",
   "mimetype": "text/x-python",
   "name": "python",
   "nbconvert_exporter": "python",
   "pygments_lexer": "ipython2",
   "version": "2.7.6"
  }
 },
 "nbformat": 4,
 "nbformat_minor": 0
}
